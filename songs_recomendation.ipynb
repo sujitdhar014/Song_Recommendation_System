{
 "cells": [
  {
   "cell_type": "code",
   "execution_count": 2,
   "id": "34d91573",
   "metadata": {},
   "outputs": [],
   "source": [
    "import pandas as pd\n",
    "import numpy as np"
   ]
  },
  {
   "cell_type": "code",
   "execution_count": 5,
   "id": "c2771964",
   "metadata": {},
   "outputs": [
    {
     "data": {
      "text/html": [
       "<div>\n",
       "<style scoped>\n",
       "    .dataframe tbody tr th:only-of-type {\n",
       "        vertical-align: middle;\n",
       "    }\n",
       "\n",
       "    .dataframe tbody tr th {\n",
       "        vertical-align: top;\n",
       "    }\n",
       "\n",
       "    .dataframe thead th {\n",
       "        text-align: right;\n",
       "    }\n",
       "</style>\n",
       "<table border=\"1\" class=\"dataframe\">\n",
       "  <thead>\n",
       "    <tr style=\"text-align: right;\">\n",
       "      <th></th>\n",
       "      <th>SongName</th>\n",
       "      <th>ArtistName</th>\n",
       "      <th>Popularity</th>\n",
       "      <th>Danceability</th>\n",
       "      <th>Energy</th>\n",
       "      <th>Key</th>\n",
       "      <th>Loudness</th>\n",
       "      <th>Mode</th>\n",
       "      <th>Speechiness</th>\n",
       "      <th>Acousticness</th>\n",
       "      <th>Instrumentalness</th>\n",
       "      <th>Liveness</th>\n",
       "      <th>Valence</th>\n",
       "      <th>Tempo</th>\n",
       "      <th>Duration_ms</th>\n",
       "    </tr>\n",
       "  </thead>\n",
       "  <tbody>\n",
       "    <tr>\n",
       "      <th>0</th>\n",
       "      <td>Saiyaan Ji</td>\n",
       "      <td>Yo Yo Honey Singh</td>\n",
       "      <td>62</td>\n",
       "      <td>0.896</td>\n",
       "      <td>0.678</td>\n",
       "      <td>0</td>\n",
       "      <td>-2.546</td>\n",
       "      <td>0</td>\n",
       "      <td>0.0815</td>\n",
       "      <td>0.0137</td>\n",
       "      <td>0.000041</td>\n",
       "      <td>0.1100</td>\n",
       "      <td>0.604</td>\n",
       "      <td>130.024</td>\n",
       "      <td>205450</td>\n",
       "    </tr>\n",
       "    <tr>\n",
       "      <th>1</th>\n",
       "      <td>Falling</td>\n",
       "      <td>Trevor Daniel</td>\n",
       "      <td>84</td>\n",
       "      <td>0.785</td>\n",
       "      <td>0.431</td>\n",
       "      <td>10</td>\n",
       "      <td>-8.756</td>\n",
       "      <td>0</td>\n",
       "      <td>0.0364</td>\n",
       "      <td>0.1230</td>\n",
       "      <td>0.000000</td>\n",
       "      <td>0.0887</td>\n",
       "      <td>0.236</td>\n",
       "      <td>127.085</td>\n",
       "      <td>159382</td>\n",
       "    </tr>\n",
       "    <tr>\n",
       "      <th>2</th>\n",
       "      <td>Shayad</td>\n",
       "      <td>Pritam</td>\n",
       "      <td>72</td>\n",
       "      <td>0.483</td>\n",
       "      <td>0.468</td>\n",
       "      <td>8</td>\n",
       "      <td>-7.642</td>\n",
       "      <td>1</td>\n",
       "      <td>0.0341</td>\n",
       "      <td>0.7850</td>\n",
       "      <td>0.000000</td>\n",
       "      <td>0.1520</td>\n",
       "      <td>0.319</td>\n",
       "      <td>135.864</td>\n",
       "      <td>247941</td>\n",
       "    </tr>\n",
       "  </tbody>\n",
       "</table>\n",
       "</div>"
      ],
      "text/plain": [
       "     SongName         ArtistName  Popularity  Danceability  Energy  Key  \\\n",
       "0  Saiyaan Ji  Yo Yo Honey Singh          62         0.896   0.678    0   \n",
       "1     Falling      Trevor Daniel          84         0.785   0.431   10   \n",
       "2      Shayad             Pritam          72         0.483   0.468    8   \n",
       "\n",
       "   Loudness  Mode  Speechiness  Acousticness  Instrumentalness  Liveness  \\\n",
       "0    -2.546     0       0.0815        0.0137          0.000041    0.1100   \n",
       "1    -8.756     0       0.0364        0.1230          0.000000    0.0887   \n",
       "2    -7.642     1       0.0341        0.7850          0.000000    0.1520   \n",
       "\n",
       "   Valence    Tempo  Duration_ms  \n",
       "0    0.604  130.024       205450  \n",
       "1    0.236  127.085       159382  \n",
       "2    0.319  135.864       247941  "
      ]
     },
     "execution_count": 5,
     "metadata": {},
     "output_type": "execute_result"
    }
   ],
   "source": [
    "df = pd.read_csv('songs data/SpotifySongs.csv')\n",
    "df.head(3)"
   ]
  },
  {
   "cell_type": "code",
   "execution_count": null,
   "id": "59f4ef1f",
   "metadata": {},
   "outputs": [
    {
     "data": {
      "text/plain": [
       "array([ 1.        ,  0.47007102, -0.73600234, ...,  0.29227174,\n",
       "       -0.24145406, -0.65233254], shape=(3731,))"
      ]
     },
     "execution_count": 61,
     "metadata": {},
     "output_type": "execute_result"
    }
   ],
   "source": []
  },
  {
   "cell_type": "code",
   "execution_count": null,
   "id": "cf99f0fe",
   "metadata": {},
   "outputs": [],
   "source": []
  },
  {
   "cell_type": "code",
   "execution_count": 6,
   "id": "3720a550",
   "metadata": {},
   "outputs": [
    {
     "data": {
      "text/plain": [
       "(3731, 15)"
      ]
     },
     "execution_count": 6,
     "metadata": {},
     "output_type": "execute_result"
    }
   ],
   "source": [
    "df.shape\n"
   ]
  },
  {
   "cell_type": "code",
   "execution_count": 8,
   "id": "584994b1",
   "metadata": {},
   "outputs": [],
   "source": [
    "features = [\n",
    "    'Danceability', 'Energy', 'Key', 'Loudness', 'Mode',\n",
    "    'Speechiness', 'Acousticness', 'Instrumentalness',\n",
    "    'Liveness', 'Valence', 'Tempo', 'Duration_ms'\n",
    "]"
   ]
  },
  {
   "cell_type": "code",
   "execution_count": 9,
   "id": "fd6186ab",
   "metadata": {},
   "outputs": [],
   "source": [
    "from sklearn.preprocessing import StandardScaler\n",
    "\n",
    "scaler = StandardScaler()\n",
    "X_scaled = scaler.fit_transform(df[features])"
   ]
  },
  {
   "cell_type": "code",
   "execution_count": 10,
   "id": "7e9c06dc",
   "metadata": {},
   "outputs": [],
   "source": [
    "from sklearn.metrics.pairwise import cosine_similarity\n",
    "\n",
    "similarity_matrix = cosine_similarity(X_scaled)"
   ]
  },
  {
   "cell_type": "code",
   "execution_count": 11,
   "id": "bebc8b3b",
   "metadata": {},
   "outputs": [],
   "source": [
    "# Creating a dictionary to map song names to indices\n",
    "song_name_to_index = {song: index for index, song in enumerate(df['SongName'])}"
   ]
  },
  {
   "cell_type": "code",
   "execution_count": 12,
   "id": "00468d7c",
   "metadata": {},
   "outputs": [],
   "source": [
    "# Function to recommend songs based on the song name\n",
    "def recommend(song_name, top_n=6):\n",
    "    # Find the index of the given song name\n",
    "    if song_name not in song_name_to_index:\n",
    "        return f\"Song '{song_name}' not found in the database.\"\n",
    "    \n",
    "    song_index = song_name_to_index[song_name]\n",
    "    \n",
    "    # Get similarity scores for the song\n",
    "    similarity_scores = list(enumerate(similarity_matrix[song_index]))\n",
    "    \n",
    "    # Sort by similarity score (highest first)\n",
    "    sorted_scores = sorted(similarity_scores, key=lambda x: x[1], reverse=True)\n",
    "    \n",
    "    # Get the indices of the top N most similar songs\n",
    "    recommended_indices = [i for i, score in sorted_scores[1:top_n+1]]  # Skip the first index (the song itself)\n",
    "    \n",
    "    # Return the recommended songs\n",
    "    return df.iloc[recommended_indices][['SongName', 'ArtistName']]"
   ]
  },
  {
   "cell_type": "code",
   "execution_count": 24,
   "id": "fb04dd6c",
   "metadata": {},
   "outputs": [],
   "source": [
    "def recommend(song_name, top_n=10):\n",
    "    if song_name not in song_name_to_index:\n",
    "        print(f\"Song '{song_name}' not found in the database.\")\n",
    "        return\n",
    "    \n",
    "    idx = song_name_to_index[song_name]\n",
    "    distances = list(enumerate(similarity_matrix[idx]))\n",
    "    distances = sorted(distances, reverse=True, key=lambda x: x[1])\n",
    "    \n",
    "    recommended_indices = [i for i, _ in distances[1:top_n+1]]  # Skip the input song\n",
    "    \n",
    "    print(f\"Top {top_n} similar songs to '{song_name}':\")\n",
    "    for i, song_idx in enumerate(recommended_indices, start=1):\n",
    "        print(f\"{i}. {df.iloc[song_idx]['SongName']}\")\n",
    "\n"
   ]
  },
  {
   "cell_type": "code",
   "execution_count": 25,
   "id": "be3a4b32",
   "metadata": {},
   "outputs": [
    {
     "name": "stdout",
     "output_type": "stream",
     "text": [
      "Top 10 similar songs to 'Riha':\n",
      "1. Two of Us\n",
      "2. fairytales\n",
      "3. No Money\n",
      "4. Wolves (feat. Post Malone)\n",
      "5. anxiety (with FRND)\n",
      "6. Soldier\n",
      "7. Somebody That I Used To Know\n",
      "8. Bandey\n",
      "9. Aadmi Chutiya Hai\n",
      "10. Bandit (with YoungBoy Never Broke Again)\n",
      "None\n"
     ]
    }
   ],
   "source": [
    "# Example usage:\n",
    "print(recommend(\"Riha\"))"
   ]
  },
  {
   "cell_type": "code",
   "execution_count": 27,
   "id": "a725e699",
   "metadata": {},
   "outputs": [],
   "source": [
    "import pickle\n",
    "\n",
    "# Save dataframe\n",
    "with open(\"df.pkl\", \"wb\") as f:\n",
    "    pickle.dump(df, f)\n",
    "\n",
    "# Save similarity matrix\n",
    "with open(\"similarity.pkl\", \"wb\") as f:\n",
    "    pickle.dump(similarity_matrix, f)\n",
    "\n",
    "# Save name-to-index mapping\n",
    "with open(\"song_index.pkl\", \"wb\") as f:\n",
    "    pickle.dump(song_name_to_index, f)"
   ]
  },
  {
   "cell_type": "code",
   "execution_count": null,
   "id": "f463baa4",
   "metadata": {},
   "outputs": [],
   "source": []
  },
  {
   "cell_type": "code",
   "execution_count": 29,
   "id": "80aa6ab3",
   "metadata": {},
   "outputs": [
    {
     "name": "stdout",
     "output_type": "stream",
     "text": [
      "1. Two of Us\n",
      "2. fairytales\n",
      "3. No Money\n",
      "4. Wolves (feat. Post Malone)\n",
      "5. anxiety (with FRND)\n",
      "6. Soldier\n",
      "7. Somebody That I Used To Know\n",
      "8. Bandey\n",
      "9. Aadmi Chutiya Hai\n",
      "10. Bandit (with YoungBoy Never Broke Again)\n"
     ]
    }
   ],
   "source": [
    "print(recommend(\"Riha\"))"
   ]
  },
  {
   "cell_type": "code",
   "execution_count": 30,
   "id": "3db5a52e",
   "metadata": {},
   "outputs": [],
   "source": [
    "import pickle\n",
    "\n",
    "# Save dataframe\n",
    "with open(\"df.pkl\", \"wb\") as f:\n",
    "    pickle.dump(df, f)\n",
    "\n",
    "# Save similarity matrix\n",
    "with open(\"similarity.pkl\", \"wb\") as f:\n",
    "    pickle.dump(similarity_matrix, f)\n",
    "\n",
    "# Save name-to-index mapping\n",
    "with open(\"song_index.pkl\", \"wb\") as f:\n",
    "    pickle.dump(song_name_to_index, f)"
   ]
  },
  {
   "cell_type": "code",
   "execution_count": 52,
   "id": "a5e39c4e",
   "metadata": {},
   "outputs": [],
   "source": [
    "song_name_to_index = {name.lower().strip(): idx for idx, name in enumerate(df['SongName'])}\n"
   ]
  },
  {
   "cell_type": "code",
   "execution_count": null,
   "id": "27d1b062",
   "metadata": {},
   "outputs": [
    {
     "name": "stdout",
     "output_type": "stream",
     "text": [
      "['fairytales', 'No Money', 'Bandit (with YoungBoy Never Broke Again)', 'Hurricane', 'Wolves (feat. Post Malone)', 'anxiety (with FRND)', 'Soldier', 'I Don’t Wanna Live Forever (Fifty Shades Darker)', 'RAPSTAR']\n"
     ]
    }
   ],
   "source": [
    "import pandas as pd\n",
    "from sklearn.preprocessing import StandardScaler\n",
    "from sklearn.metrics.pairwise import cosine_similarity\n",
    "\n",
    "# Load the dataset\n",
    "df = pd.read_csv('songs data/SpotifySongs.csv')\n",
    "\n",
    "# Features we want to use for recommendation\n",
    "features = ['Popularity', 'Danceability', 'Energy', 'Key', 'Loudness', 'Mode', 'Speechiness', 'Acousticness', 'Instrumentalness', 'Liveness', 'Valence', 'Tempo', 'Duration_ms']\n",
    "\n",
    "# Normalize the numerical features\n",
    "scaler = StandardScaler()\n",
    "df_scaled = scaler.fit_transform(df[features])\n",
    "\n",
    "# Calculate cosine similarity matrix\n",
    "similarity = cosine_similarity(df_scaled)\n",
    "\n",
    "# Function to recommend similar songs\n",
    "def recommendation(song_name):\n",
    "    try:\n",
    "        # Get the index of the song from the dataset\n",
    "        idx = df[df['SongName'] == song_name].index[0]\n",
    "    except IndexError:\n",
    "        return f\"Song '{song_name}' not found in the dataset.\"\n",
    "    \n",
    "    # Get the similarity scores for the song\n",
    "    distances = sorted(list(enumerate(similarity[idx])), reverse=True, key=lambda x: x[1])\n",
    "\n",
    "    # Get the top 20 recommended songs (excluding the song itself)\n",
    "    recommended_songs = []\n",
    "    for m_id in distances[1:10]:  # Skip the first one as it's the song itself\n",
    "        recommended_songs.append(df.iloc[m_id[4]]['SongName'])\n",
    "        \n",
    "    return recommended_songs\n",
    "\n",
    "# Example usage\n",
    "recommended_songs = recommendation(\"Shayad\")\n",
    "print(recommended_songs)\n"
   ]
  },
  {
   "cell_type": "code",
   "execution_count": 45,
   "id": "da77e8d6",
   "metadata": {},
   "outputs": [],
   "source": [
    "\n",
    "\n",
    "# Save dataframe\n",
    "with open(\"df.pkl\", \"wb\") as f:\n",
    "    pickle.dump(df, f)\n",
    "\n",
    "# Save similarity matrix\n",
    "with open(\"similarity.pkl\", \"wb\") as f:\n",
    "    pickle.dump(similarity_matrix, f)\n",
    "\n",
    "# Save name-to-index mapping\n",
    "with open(\"song_index.pkl\", \"wb\") as f:\n",
    "    pickle.dump(song_name_to_index, f)\n"
   ]
  },
  {
   "cell_type": "code",
   "execution_count": 60,
   "id": "20e3ee6b",
   "metadata": {},
   "outputs": [
    {
     "data": {
      "text/plain": [
       "array([ 1.        ,  0.47007102, -0.73600234, ...,  0.29227174,\n",
       "       -0.24145406, -0.65233254], shape=(3731,))"
      ]
     },
     "execution_count": 60,
     "metadata": {},
     "output_type": "execute_result"
    }
   ],
   "source": [
    "similarity[0]"
   ]
  },
  {
   "cell_type": "code",
   "execution_count": 58,
   "id": "1964413f",
   "metadata": {},
   "outputs": [
    {
     "name": "stdout",
     "output_type": "stream",
     "text": [
      "[('The Last Goodbye', np.float64(0.9843477118127084)), ('Come & Get It', np.float64(0.9843477118127084)), ('Rap God', np.float64(0.9843477118127084))]\n"
     ]
    }
   ],
   "source": [
    "import pandas as pd\n",
    "from sklearn.metrics.pairwise import cosine_similarity\n",
    "from sklearn.preprocessing import StandardScaler\n",
    "import pickle\n",
    "\n",
    "# Assuming `df` has been loaded and has the correct columns\n",
    "# For example, using features like 'Danceability', 'Energy', 'Tempo', 'Acousticness', 'Valence'\n",
    "\n",
    "# Example feature columns (adjust this based on your dataset)\n",
    "features = df[['Danceability', 'Energy', 'Tempo', 'Acousticness', 'Valence']]\n",
    "\n",
    "# Normalize the features\n",
    "scaler = StandardScaler()\n",
    "scaled_features = scaler.fit_transform(features)\n",
    "\n",
    "# Calculate cosine similarity matrix\n",
    "similarity = cosine_similarity(scaled_features)\n",
    "\n",
    "# Save the updated versions\n",
    "pickle.dump(df, open(\"df.pkl\", \"wb\"))\n",
    "pickle.dump(similarity, open(\"similarity.pkl\", \"wb\"))\n",
    "\n",
    "# Function to print top 3 recommended songs based on similarity\n",
    "def get_top_3_recommendations(song_name):\n",
    "    song_name = song_name.lower().strip()  # Normalize the input song name\n",
    "\n",
    "    if song_name not in song_name_to_index:\n",
    "        return f\"'{song_name}' not found in dataset.\"\n",
    "\n",
    "    idx = song_name_to_index[song_name]\n",
    "\n",
    "    # Get the top 3 similar songs based on cosine similarity\n",
    "    distances = sorted(list(enumerate(similarity[idx])), reverse=True, key=lambda x: x[1])\n",
    "\n",
    "    recommendations = []\n",
    "    for i in distances[1:4]:  # skip the first one as it's the same song\n",
    "        recommended_song = df.iloc[i[0]]['SongName']\n",
    "        similarity_score = i[1]\n",
    "        recommendations.append((recommended_song, similarity_score))\n",
    "\n",
    "    return recommendations\n",
    "\n",
    "# Example check for the song 'Shape of You'\n",
    "print(get_top_3_recommendations('Shape of You'))\n"
   ]
  }
 ],
 "metadata": {
  "kernelspec": {
   "display_name": "Python 3",
   "language": "python",
   "name": "python3"
  },
  "language_info": {
   "codemirror_mode": {
    "name": "ipython",
    "version": 3
   },
   "file_extension": ".py",
   "mimetype": "text/x-python",
   "name": "python",
   "nbconvert_exporter": "python",
   "pygments_lexer": "ipython3",
   "version": "3.10.17"
  }
 },
 "nbformat": 4,
 "nbformat_minor": 5
}
